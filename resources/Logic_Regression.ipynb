{
 "cells": [
  {
   "cell_type": "code",
   "execution_count": 74,
   "metadata": {},
   "outputs": [
    {
     "name": "stdout",
     "output_type": "stream",
     "text": [
      "[[0.69314718]]\n"
     ]
    },
    {
     "data": {
      "image/png": "[encoded data removed]",
      "text/plain": [
       "<Figure size 288x288 with 1 Axes>"
      ]
     },
     "metadata": {
      "needs_background": "light"
     },
     "output_type": "display_data"
    }
   ],
   "source": [
    "import numpy as np\n",
    "import matplotlib.pyplot as plt\n",
    "\n",
    "def draw_line(x1,x2):\n",
    "    ln = plt.plot(x1,x2)\n",
    "\n",
    "def sigmoid(score):\n",
    "    return 1 / (1 + np.exp(-score)) # return the sigmoid function for the given lienar combinations\n",
    "\n",
    "def calculate_error(line_parameters, points, y):\n",
    "    n = points.shape[0] # number of points, required for taking the average\n",
    "    p = sigmoid(points * line_parameters)\n",
    "    cross_entropy = -(1/n) * (np.log(p).T*y + np.log(1-p).T*(1-y))\n",
    "    return cross_entropy\n",
    "\n",
    "def gradient_descent(line_parameters, points, y, learning_rate):\n",
    "    n = points.shape[0]\n",
    "    for i in range(2000):\n",
    "        p = sigmoid(points * line_parameters)\n",
    "        gradient = points.T * (p - y)*(learning_rate/n)\n",
    "        line_parameters = line_parameters - gradient\n",
    "        \n",
    "        # extract weights and bias from the new line parameters\n",
    "        w1 = line_parameters.item(0)\n",
    "        w2 = line_parameters.item(1)\n",
    "        b = line_parameters.item(2)\n",
    "        \n",
    "        # update the coordinates of the new lines from new line parameters\n",
    "        x1 = np.array([points[:,0].min(), points[:,0].max()])\n",
    "        x2 = -(b/w2) + (x1 * (-w1/w2))\n",
    "    draw_line(x1,x2)\n",
    "\n",
    "n_pts = 100\n",
    "np.random.seed(0) # produces same random numbers every time the program is run\n",
    "\n",
    "# generate random values using normal distribution curve\n",
    "random_x1_val = np.random.normal(12, 2, n_pts) # normalized around 12 with deviation 2 and n_pts number of points\n",
    "random_x2_val = np.random.normal(10, 2, n_pts) # normalized around 10 with deviation 2 and n_pts number of points\n",
    "\n",
    "# create an array of these randomly generated points, added with bias of 1\n",
    "bias = np.ones(n_pts)\n",
    "top_region = np.array([random_x1_val, random_x2_val, bias]).T\n",
    "bottom_region = np.array([np.random.normal(5,2,n_pts), np.random.normal(6,2,n_pts), bias]).T\n",
    "\n",
    "# stack up top and bottom regions on one another and create an array\n",
    "full_region = np.vstack((top_region, bottom_region))\n",
    "\n",
    "# create a random line to start with optimizytion with machine learning\n",
    "# w1 = -0.2 # weight w_1\n",
    "# w2 = -0.35 # weight w_2\n",
    "# b = 3.5 # x_2 intercept 'b'\n",
    "line_parameters = np.matrix([np.zeros(3)]).T\n",
    "\n",
    "# determine the coordinates to draw the line\n",
    "# line should cover all the points including the smallest to the largest\n",
    "x1 = np.array([bottom_region[:,0].min(), top_region[:,0].max()]) # smallest and largest x_1 coordinate\n",
    "# using the straight line equation w1*x1 + w2*x2 + b = 0, determine the x_2 coordinate\n",
    "x2 = -(b/w2) + x1 * (-w1/w2)\n",
    "\n",
    "# from all points from full_region and line_parameters, the values can be determined using matrix multiplication\n",
    "linear_combination = full_region * line_parameters\n",
    "\n",
    "# find the probablities of the lienar combinations using the sigmoid function\n",
    "# here probabilites are for the point lying either in the positive or the negative region \n",
    "probabilities = sigmoid(linear_combination)\n",
    "#print(probabilities)\n",
    "\n",
    "\n",
    "\n",
    "# define an input y such that y = 1 when the point is blue and y = 0 when its red\n",
    "y = np.array([np.zeros(n_pts), np.ones(n_pts)]).reshape(n_pts*2, 1)\n",
    "\n",
    "# use the calculate error function to determine the error of estimation with the current defined line (blue line in fig)\n",
    "print(calculate_error(line_parameters, full_region, y))\n",
    "\n",
    "# generate plots using these arrays of random points\n",
    "_, ax = plt.subplots(figsize=(4,4))\n",
    "ax.scatter(top_region[:,0], top_region[:,1], color='r')\n",
    "ax.scatter(bottom_region[:,0], bottom_region[:,1], color='b')\n",
    "gradient_descent(line_parameters, full_region, y, 0.06)\n",
    "plt.show()\n",
    "\n"
   ]
  },
  {
   "cell_type": "code",
   "execution_count": null,
   "metadata": {},
   "outputs": [],
   "source": []
  }
 ],
 "metadata": {
  "kernelspec": {
   "display_name": "Python 3",
   "language": "python",
   "name": "python3"
  },
  "language_info": {
   "codemirror_mode": {
    "name": "ipython",
    "version": 3
   },
   "file_extension": ".py",
   "mimetype": "text/x-python",
   "name": "python",
   "nbconvert_exporter": "python",
   "pygments_lexer": "ipython3",
   "version": "3.7.6"
  }
 },
 "nbformat": 4,
 "nbformat_minor": 4
}
